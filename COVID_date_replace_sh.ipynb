{
 "cells": [
  {
   "cell_type": "code",
   "execution_count": 1,
   "metadata": {},
   "outputs": [],
   "source": [
    "import pandas as pd"
   ]
  },
  {
   "cell_type": "markdown",
   "metadata": {},
   "source": [
    "# 파일 불러오기\n",
    "\n",
    "파일 안 열릴 경우 사용 \n",
    "- engine = 'python'\n",
    "- encoding = 'utf-8'"
   ]
  },
  {
   "cell_type": "code",
   "execution_count": 2,
   "metadata": {},
   "outputs": [],
   "source": [
    "df = pd.read_csv('./data_COVID/COVID19_Busan.csv', index_col=0)"
   ]
  },
  {
   "cell_type": "code",
   "execution_count": 13,
   "metadata": {},
   "outputs": [
    {
     "data": {
      "text/html": [
       "<div>\n",
       "<style scoped>\n",
       "    .dataframe tbody tr th:only-of-type {\n",
       "        vertical-align: middle;\n",
       "    }\n",
       "\n",
       "    .dataframe tbody tr th {\n",
       "        vertical-align: top;\n",
       "    }\n",
       "\n",
       "    .dataframe thead th {\n",
       "        text-align: right;\n",
       "    }\n",
       "</style>\n",
       "<table border=\"1\" class=\"dataframe\">\n",
       "  <thead>\n",
       "    <tr style=\"text-align: right;\">\n",
       "      <th></th>\n",
       "      <th>확진일자</th>\n",
       "      <th>거주지</th>\n",
       "      <th>지역</th>\n",
       "    </tr>\n",
       "  </thead>\n",
       "  <tbody>\n",
       "    <tr>\n",
       "      <th>0</th>\n",
       "      <td>10. 8.</td>\n",
       "      <td>사상구</td>\n",
       "      <td>부산</td>\n",
       "    </tr>\n",
       "    <tr>\n",
       "      <th>1</th>\n",
       "      <td>10. 8.</td>\n",
       "      <td>부산진구</td>\n",
       "      <td>부산</td>\n",
       "    </tr>\n",
       "    <tr>\n",
       "      <th>2</th>\n",
       "      <td>10. 8.</td>\n",
       "      <td>부산진구</td>\n",
       "      <td>부산</td>\n",
       "    </tr>\n",
       "    <tr>\n",
       "      <th>3</th>\n",
       "      <td>10. 8.</td>\n",
       "      <td>부산진구</td>\n",
       "      <td>부산</td>\n",
       "    </tr>\n",
       "    <tr>\n",
       "      <th>4</th>\n",
       "      <td>10. 8.</td>\n",
       "      <td>금정구</td>\n",
       "      <td>부산</td>\n",
       "    </tr>\n",
       "    <tr>\n",
       "      <th>...</th>\n",
       "      <td>...</td>\n",
       "      <td>...</td>\n",
       "      <td>...</td>\n",
       "    </tr>\n",
       "    <tr>\n",
       "      <th>472</th>\n",
       "      <td>2. 22.</td>\n",
       "      <td>해운대구</td>\n",
       "      <td>부산</td>\n",
       "    </tr>\n",
       "    <tr>\n",
       "      <th>473</th>\n",
       "      <td>2. 22.</td>\n",
       "      <td>해운대구</td>\n",
       "      <td>부산</td>\n",
       "    </tr>\n",
       "    <tr>\n",
       "      <th>474</th>\n",
       "      <td>2. 22.</td>\n",
       "      <td>해운대구</td>\n",
       "      <td>부산</td>\n",
       "    </tr>\n",
       "    <tr>\n",
       "      <th>475</th>\n",
       "      <td>2. 21.</td>\n",
       "      <td>해운대구</td>\n",
       "      <td>부산</td>\n",
       "    </tr>\n",
       "    <tr>\n",
       "      <th>476</th>\n",
       "      <td>2. 21.</td>\n",
       "      <td>동래구</td>\n",
       "      <td>부산</td>\n",
       "    </tr>\n",
       "  </tbody>\n",
       "</table>\n",
       "<p>473 rows × 3 columns</p>\n",
       "</div>"
      ],
      "text/plain": [
       "       확진일자   거주지  지역\n",
       "0    10. 8.   사상구  부산\n",
       "1    10. 8.  부산진구  부산\n",
       "2    10. 8.  부산진구  부산\n",
       "3    10. 8.  부산진구  부산\n",
       "4    10. 8.   금정구  부산\n",
       "..      ...   ...  ..\n",
       "472  2. 22.  해운대구  부산\n",
       "473  2. 22.  해운대구  부산\n",
       "474  2. 22.  해운대구  부산\n",
       "475  2. 21.  해운대구  부산\n",
       "476  2. 21.   동래구  부산\n",
       "\n",
       "[473 rows x 3 columns]"
      ]
     },
     "execution_count": 13,
     "metadata": {},
     "output_type": "execute_result"
    }
   ],
   "source": [
    "df"
   ]
  },
  {
   "cell_type": "markdown",
   "metadata": {},
   "source": [
    "확진일자 [월,일이나 (월),(화)] 포함되어 있는거 지우기"
   ]
  },
  {
   "cell_type": "code",
   "execution_count": 4,
   "metadata": {},
   "outputs": [],
   "source": [
    "df['확진일자'] = df['확진일자'].astype(str).str.replace('월', '.')"
   ]
  },
  {
   "cell_type": "code",
   "execution_count": 5,
   "metadata": {},
   "outputs": [],
   "source": [
    "df['확진일자'] = df['확진일자'].astype(str).str.replace('일', '')"
   ]
  },
  {
   "cell_type": "code",
   "execution_count": 6,
   "metadata": {},
   "outputs": [],
   "source": [
    "df['확진일자'] = df['확진일자'].astype(str).str.replace('\\(화\\)', '')"
   ]
  },
  {
   "cell_type": "code",
   "execution_count": 7,
   "metadata": {},
   "outputs": [],
   "source": [
    "df['확진일자'] = df['확진일자'].astype(str).str.replace('\\(수\\)', '')"
   ]
  },
  {
   "cell_type": "code",
   "execution_count": 8,
   "metadata": {},
   "outputs": [],
   "source": [
    "df['확진일자'] = df['확진일자'].astype(str).str.replace('\\(목\\)', '')"
   ]
  },
  {
   "cell_type": "code",
   "execution_count": 9,
   "metadata": {},
   "outputs": [],
   "source": [
    "df['확진일자'] = df['확진일자'].astype(str).str.replace('\\(금\\)', '')"
   ]
  },
  {
   "cell_type": "code",
   "execution_count": 10,
   "metadata": {},
   "outputs": [],
   "source": [
    "df['확진일자'] = df['확진일자'].astype(str).str.replace('\\(토\\)', '')"
   ]
  },
  {
   "cell_type": "code",
   "execution_count": 11,
   "metadata": {},
   "outputs": [],
   "source": [
    "df['확진일자'] = df['확진일자'].astype(str).str.replace('\\(일\\)', '')"
   ]
  },
  {
   "cell_type": "code",
   "execution_count": 12,
   "metadata": {},
   "outputs": [],
   "source": [
    "df['확진일자'] = df['확진일자'].astype(str).str.replace('\\(월\\)', '')"
   ]
  },
  {
   "cell_type": "code",
   "execution_count": 14,
   "metadata": {},
   "outputs": [],
   "source": [
    "df.to_csv('./pre_COVID/COVID19_Busan_re.csv')"
   ]
  },
  {
   "cell_type": "markdown",
   "metadata": {},
   "source": [
    "# 2020 붙이기"
   ]
  },
  {
   "cell_type": "code",
   "execution_count": 16,
   "metadata": {},
   "outputs": [],
   "source": [
    "df2 = pd.read_csv('./pre_COVID/COVID19_Busan_re.csv',engine = 'python',index_col=0)"
   ]
  },
  {
   "cell_type": "code",
   "execution_count": 17,
   "metadata": {},
   "outputs": [],
   "source": [
    "df2.reset_index(drop=True, inplace=True)"
   ]
  },
  {
   "cell_type": "code",
   "execution_count": 18,
   "metadata": {},
   "outputs": [
    {
     "data": {
      "text/html": [
       "<div>\n",
       "<style scoped>\n",
       "    .dataframe tbody tr th:only-of-type {\n",
       "        vertical-align: middle;\n",
       "    }\n",
       "\n",
       "    .dataframe tbody tr th {\n",
       "        vertical-align: top;\n",
       "    }\n",
       "\n",
       "    .dataframe thead th {\n",
       "        text-align: right;\n",
       "    }\n",
       "</style>\n",
       "<table border=\"1\" class=\"dataframe\">\n",
       "  <thead>\n",
       "    <tr style=\"text-align: right;\">\n",
       "      <th></th>\n",
       "      <th>�솗吏꾩씪�옄</th>\n",
       "      <th>嫄곗＜吏�</th>\n",
       "      <th>吏��뿭</th>\n",
       "    </tr>\n",
       "  </thead>\n",
       "  <tbody>\n",
       "    <tr>\n",
       "      <th>0</th>\n",
       "      <td>10. 8.</td>\n",
       "      <td>�궗�긽援�</td>\n",
       "      <td>遺��궛</td>\n",
       "    </tr>\n",
       "    <tr>\n",
       "      <th>1</th>\n",
       "      <td>10. 8.</td>\n",
       "      <td>遺��궛吏꾧뎄</td>\n",
       "      <td>遺��궛</td>\n",
       "    </tr>\n",
       "    <tr>\n",
       "      <th>2</th>\n",
       "      <td>10. 8.</td>\n",
       "      <td>遺��궛吏꾧뎄</td>\n",
       "      <td>遺��궛</td>\n",
       "    </tr>\n",
       "    <tr>\n",
       "      <th>3</th>\n",
       "      <td>10. 8.</td>\n",
       "      <td>遺��궛吏꾧뎄</td>\n",
       "      <td>遺��궛</td>\n",
       "    </tr>\n",
       "    <tr>\n",
       "      <th>4</th>\n",
       "      <td>10. 8.</td>\n",
       "      <td>湲덉젙援�</td>\n",
       "      <td>遺��궛</td>\n",
       "    </tr>\n",
       "    <tr>\n",
       "      <th>...</th>\n",
       "      <td>...</td>\n",
       "      <td>...</td>\n",
       "      <td>...</td>\n",
       "    </tr>\n",
       "    <tr>\n",
       "      <th>468</th>\n",
       "      <td>2. 22.</td>\n",
       "      <td>�빐�슫���援�</td>\n",
       "      <td>遺��궛</td>\n",
       "    </tr>\n",
       "    <tr>\n",
       "      <th>469</th>\n",
       "      <td>2. 22.</td>\n",
       "      <td>�빐�슫���援�</td>\n",
       "      <td>遺��궛</td>\n",
       "    </tr>\n",
       "    <tr>\n",
       "      <th>470</th>\n",
       "      <td>2. 22.</td>\n",
       "      <td>�빐�슫���援�</td>\n",
       "      <td>遺��궛</td>\n",
       "    </tr>\n",
       "    <tr>\n",
       "      <th>471</th>\n",
       "      <td>2. 21.</td>\n",
       "      <td>�빐�슫���援�</td>\n",
       "      <td>遺��궛</td>\n",
       "    </tr>\n",
       "    <tr>\n",
       "      <th>472</th>\n",
       "      <td>2. 21.</td>\n",
       "      <td>�룞�옒援�</td>\n",
       "      <td>遺��궛</td>\n",
       "    </tr>\n",
       "  </tbody>\n",
       "</table>\n",
       "<p>473 rows × 3 columns</p>\n",
       "</div>"
      ],
      "text/plain": [
       "    �솗吏꾩씪�옄      嫄곗＜吏�  吏��뿭\n",
       "0    10. 8.     �궗�긽援�  遺��궛\n",
       "1    10. 8.    遺��궛吏꾧뎄  遺��궛\n",
       "2    10. 8.    遺��궛吏꾧뎄  遺��궛\n",
       "3    10. 8.    遺��궛吏꾧뎄  遺��궛\n",
       "4    10. 8.      湲덉젙援�  遺��궛\n",
       "..      ...        ...   ...\n",
       "468  2. 22.  �빐�슫���援�  遺��궛\n",
       "469  2. 22.  �빐�슫���援�  遺��궛\n",
       "470  2. 22.  �빐�슫���援�  遺��궛\n",
       "471  2. 21.  �빐�슫���援�  遺��궛\n",
       "472  2. 21.     �룞�옒援�  遺��궛\n",
       "\n",
       "[473 rows x 3 columns]"
      ]
     },
     "execution_count": 18,
     "metadata": {},
     "output_type": "execute_result"
    }
   ],
   "source": [
    "df2"
   ]
  },
  {
   "cell_type": "code",
   "execution_count": 197,
   "metadata": {},
   "outputs": [
    {
     "data": {
      "text/plain": [
       "0        10.06.\n",
       "1        10.06.\n",
       "2        10.06.\n",
       "3        10.06.\n",
       "4        10.06.\n",
       "          ...  \n",
       "17968      3.27\n",
       "17969      3.25\n",
       "17970      3.24\n",
       "17971      3.24\n",
       "17972       3.4\n",
       "Name: 확진일자, Length: 17973, dtype: object"
      ]
     },
     "execution_count": 197,
     "metadata": {},
     "output_type": "execute_result"
    }
   ],
   "source": [
    "df2['확진일자'] "
   ]
  },
  {
   "cell_type": "code",
   "execution_count": 198,
   "metadata": {},
   "outputs": [],
   "source": [
    "df2[\"확진일자\"] = dff[\"확진일자\"].astype(str) # 문자열로 바꿔주기"
   ]
  },
  {
   "cell_type": "code",
   "execution_count": 199,
   "metadata": {},
   "outputs": [
    {
     "data": {
      "text/plain": [
       "'10.05.'"
      ]
     },
     "execution_count": 199,
     "metadata": {},
     "output_type": "execute_result"
    }
   ],
   "source": [
    "df2['확진일자'][45]"
   ]
  },
  {
   "cell_type": "code",
   "execution_count": 200,
   "metadata": {},
   "outputs": [],
   "source": [
    "# 2020 붙이는 코드 \n",
    "\n",
    "df2=[]\n",
    "\n",
    "for i in range(len(dff['확진일자'])):\n",
    "    df2.append('2020.' + dff['확진일자'][i])\n",
    "dff['확진일자']=df2"
   ]
  },
  {
   "cell_type": "code",
   "execution_count": 201,
   "metadata": {},
   "outputs": [
    {
     "data": {
      "text/html": [
       "<div>\n",
       "<style scoped>\n",
       "    .dataframe tbody tr th:only-of-type {\n",
       "        vertical-align: middle;\n",
       "    }\n",
       "\n",
       "    .dataframe tbody tr th {\n",
       "        vertical-align: top;\n",
       "    }\n",
       "\n",
       "    .dataframe thead th {\n",
       "        text-align: right;\n",
       "    }\n",
       "</style>\n",
       "<table border=\"1\" class=\"dataframe\">\n",
       "  <thead>\n",
       "    <tr style=\"text-align: right;\">\n",
       "      <th></th>\n",
       "      <th>거주지</th>\n",
       "      <th>지역</th>\n",
       "      <th>확진일자</th>\n",
       "    </tr>\n",
       "  </thead>\n",
       "  <tbody>\n",
       "    <tr>\n",
       "      <th>0</th>\n",
       "      <td>강북구</td>\n",
       "      <td>서울</td>\n",
       "      <td>2020.10.06.</td>\n",
       "    </tr>\n",
       "    <tr>\n",
       "      <th>1</th>\n",
       "      <td>용산구</td>\n",
       "      <td>서울</td>\n",
       "      <td>2020.10.06.</td>\n",
       "    </tr>\n",
       "    <tr>\n",
       "      <th>2</th>\n",
       "      <td>강북구</td>\n",
       "      <td>서울</td>\n",
       "      <td>2020.10.06.</td>\n",
       "    </tr>\n",
       "    <tr>\n",
       "      <th>3</th>\n",
       "      <td>동대문구</td>\n",
       "      <td>서울</td>\n",
       "      <td>2020.10.06.</td>\n",
       "    </tr>\n",
       "    <tr>\n",
       "      <th>4</th>\n",
       "      <td>동대문구</td>\n",
       "      <td>서울</td>\n",
       "      <td>2020.10.06.</td>\n",
       "    </tr>\n",
       "    <tr>\n",
       "      <th>...</th>\n",
       "      <td>...</td>\n",
       "      <td>...</td>\n",
       "      <td>...</td>\n",
       "    </tr>\n",
       "    <tr>\n",
       "      <th>17968</th>\n",
       "      <td>외국(미국)유학</td>\n",
       "      <td>제주</td>\n",
       "      <td>2020.3.27</td>\n",
       "    </tr>\n",
       "    <tr>\n",
       "      <th>17969</th>\n",
       "      <td>외국(유럽) 유학</td>\n",
       "      <td>제주</td>\n",
       "      <td>2020.3.25</td>\n",
       "    </tr>\n",
       "    <tr>\n",
       "      <th>17970</th>\n",
       "      <td>외국(스페인)방문</td>\n",
       "      <td>제주</td>\n",
       "      <td>2020.3.24</td>\n",
       "    </tr>\n",
       "    <tr>\n",
       "      <th>17971</th>\n",
       "      <td>외국(스페인)방문</td>\n",
       "      <td>제주</td>\n",
       "      <td>2020.3.24</td>\n",
       "    </tr>\n",
       "    <tr>\n",
       "      <th>17972</th>\n",
       "      <td>대구 방문</td>\n",
       "      <td>제주</td>\n",
       "      <td>2020.3.4</td>\n",
       "    </tr>\n",
       "  </tbody>\n",
       "</table>\n",
       "<p>17973 rows × 3 columns</p>\n",
       "</div>"
      ],
      "text/plain": [
       "             거주지  지역         확진일자\n",
       "0            강북구  서울  2020.10.06.\n",
       "1            용산구  서울  2020.10.06.\n",
       "2            강북구  서울  2020.10.06.\n",
       "3           동대문구  서울  2020.10.06.\n",
       "4           동대문구  서울  2020.10.06.\n",
       "...          ...  ..          ...\n",
       "17968   외국(미국)유학  제주    2020.3.27\n",
       "17969  외국(유럽) 유학  제주    2020.3.25\n",
       "17970  외국(스페인)방문  제주    2020.3.24\n",
       "17971  외국(스페인)방문  제주    2020.3.24\n",
       "17972      대구 방문  제주     2020.3.4\n",
       "\n",
       "[17973 rows x 3 columns]"
      ]
     },
     "execution_count": 201,
     "metadata": {},
     "output_type": "execute_result"
    }
   ],
   "source": [
    "df2"
   ]
  },
  {
   "cell_type": "code",
   "execution_count": 202,
   "metadata": {},
   "outputs": [],
   "source": [
    "df2.to_csv('./pre_COVID/COVID19_removemm_2.csv')"
   ]
  }
 ],
 "metadata": {
  "kernelspec": {
   "display_name": "Python 3",
   "language": "python",
   "name": "python3"
  },
  "language_info": {
   "codemirror_mode": {
    "name": "ipython",
    "version": 3
   },
   "file_extension": ".py",
   "mimetype": "text/x-python",
   "name": "python",
   "nbconvert_exporter": "python",
   "pygments_lexer": "ipython3",
   "version": "3.7.7"
  }
 },
 "nbformat": 4,
 "nbformat_minor": 4
}
